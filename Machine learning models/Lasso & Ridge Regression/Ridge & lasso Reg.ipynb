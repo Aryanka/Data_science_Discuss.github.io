{
 "cells": [
  {
   "cell_type": "code",
   "execution_count": 1,
   "id": "446a40bd",
   "metadata": {},
   "outputs": [],
   "source": [
    "#Data handling libraries\n",
    "import pandas as pd\n",
    "import numpy as np\n",
    "\n",
    "#Using sklearn boston dataset\n",
    "from sklearn.datasets import load_boston\n",
    "\n",
    "#Train-test split\n",
    "from sklearn.model_selection import train_test_split, GridSearchCV\n",
    "\n",
    "#importing ml libraries\n",
    "from sklearn.linear_model import LinearRegression, Lasso, Ridge\n",
    "from sklearn.metrics import mean_squared_error\n",
    "\n",
    "#Ignore warnings\n",
    "import warnings\n",
    "warnings.filterwarnings('ignore')"
   ]
  },
  {
   "cell_type": "markdown",
   "id": "34c73103",
   "metadata": {},
   "source": [
    "## Loading data from sklearn boston dataset"
   ]
  },
  {
   "cell_type": "code",
   "execution_count": 2,
   "id": "8bddc6f1",
   "metadata": {},
   "outputs": [],
   "source": [
    "boston = load_boston()"
   ]
  },
  {
   "cell_type": "code",
   "execution_count": 3,
   "id": "2bc5ee57",
   "metadata": {},
   "outputs": [
    {
     "data": {
      "text/html": [
       "<div>\n",
       "<style scoped>\n",
       "    .dataframe tbody tr th:only-of-type {\n",
       "        vertical-align: middle;\n",
       "    }\n",
       "\n",
       "    .dataframe tbody tr th {\n",
       "        vertical-align: top;\n",
       "    }\n",
       "\n",
       "    .dataframe thead th {\n",
       "        text-align: right;\n",
       "    }\n",
       "</style>\n",
       "<table border=\"1\" class=\"dataframe\">\n",
       "  <thead>\n",
       "    <tr style=\"text-align: right;\">\n",
       "      <th></th>\n",
       "      <th>CRIM</th>\n",
       "      <th>ZN</th>\n",
       "      <th>INDUS</th>\n",
       "      <th>CHAS</th>\n",
       "      <th>NOX</th>\n",
       "      <th>RM</th>\n",
       "      <th>AGE</th>\n",
       "      <th>DIS</th>\n",
       "      <th>RAD</th>\n",
       "      <th>TAX</th>\n",
       "      <th>PTRATIO</th>\n",
       "      <th>B</th>\n",
       "      <th>LSTAT</th>\n",
       "    </tr>\n",
       "  </thead>\n",
       "  <tbody>\n",
       "    <tr>\n",
       "      <th>0</th>\n",
       "      <td>0.00632</td>\n",
       "      <td>18.0</td>\n",
       "      <td>2.31</td>\n",
       "      <td>0.0</td>\n",
       "      <td>0.538</td>\n",
       "      <td>6.575</td>\n",
       "      <td>65.2</td>\n",
       "      <td>4.0900</td>\n",
       "      <td>1.0</td>\n",
       "      <td>296.0</td>\n",
       "      <td>15.3</td>\n",
       "      <td>396.90</td>\n",
       "      <td>4.98</td>\n",
       "    </tr>\n",
       "    <tr>\n",
       "      <th>1</th>\n",
       "      <td>0.02731</td>\n",
       "      <td>0.0</td>\n",
       "      <td>7.07</td>\n",
       "      <td>0.0</td>\n",
       "      <td>0.469</td>\n",
       "      <td>6.421</td>\n",
       "      <td>78.9</td>\n",
       "      <td>4.9671</td>\n",
       "      <td>2.0</td>\n",
       "      <td>242.0</td>\n",
       "      <td>17.8</td>\n",
       "      <td>396.90</td>\n",
       "      <td>9.14</td>\n",
       "    </tr>\n",
       "    <tr>\n",
       "      <th>2</th>\n",
       "      <td>0.02729</td>\n",
       "      <td>0.0</td>\n",
       "      <td>7.07</td>\n",
       "      <td>0.0</td>\n",
       "      <td>0.469</td>\n",
       "      <td>7.185</td>\n",
       "      <td>61.1</td>\n",
       "      <td>4.9671</td>\n",
       "      <td>2.0</td>\n",
       "      <td>242.0</td>\n",
       "      <td>17.8</td>\n",
       "      <td>392.83</td>\n",
       "      <td>4.03</td>\n",
       "    </tr>\n",
       "    <tr>\n",
       "      <th>3</th>\n",
       "      <td>0.03237</td>\n",
       "      <td>0.0</td>\n",
       "      <td>2.18</td>\n",
       "      <td>0.0</td>\n",
       "      <td>0.458</td>\n",
       "      <td>6.998</td>\n",
       "      <td>45.8</td>\n",
       "      <td>6.0622</td>\n",
       "      <td>3.0</td>\n",
       "      <td>222.0</td>\n",
       "      <td>18.7</td>\n",
       "      <td>394.63</td>\n",
       "      <td>2.94</td>\n",
       "    </tr>\n",
       "    <tr>\n",
       "      <th>4</th>\n",
       "      <td>0.06905</td>\n",
       "      <td>0.0</td>\n",
       "      <td>2.18</td>\n",
       "      <td>0.0</td>\n",
       "      <td>0.458</td>\n",
       "      <td>7.147</td>\n",
       "      <td>54.2</td>\n",
       "      <td>6.0622</td>\n",
       "      <td>3.0</td>\n",
       "      <td>222.0</td>\n",
       "      <td>18.7</td>\n",
       "      <td>396.90</td>\n",
       "      <td>5.33</td>\n",
       "    </tr>\n",
       "  </tbody>\n",
       "</table>\n",
       "</div>"
      ],
      "text/plain": [
       "      CRIM    ZN  INDUS  CHAS    NOX     RM   AGE     DIS  RAD    TAX  \\\n",
       "0  0.00632  18.0   2.31   0.0  0.538  6.575  65.2  4.0900  1.0  296.0   \n",
       "1  0.02731   0.0   7.07   0.0  0.469  6.421  78.9  4.9671  2.0  242.0   \n",
       "2  0.02729   0.0   7.07   0.0  0.469  7.185  61.1  4.9671  2.0  242.0   \n",
       "3  0.03237   0.0   2.18   0.0  0.458  6.998  45.8  6.0622  3.0  222.0   \n",
       "4  0.06905   0.0   2.18   0.0  0.458  7.147  54.2  6.0622  3.0  222.0   \n",
       "\n",
       "   PTRATIO       B  LSTAT  \n",
       "0     15.3  396.90   4.98  \n",
       "1     17.8  396.90   9.14  \n",
       "2     17.8  392.83   4.03  \n",
       "3     18.7  394.63   2.94  \n",
       "4     18.7  396.90   5.33  "
      ]
     },
     "execution_count": 3,
     "metadata": {},
     "output_type": "execute_result"
    }
   ],
   "source": [
    "df = pd.DataFrame(boston.data, columns=boston.feature_names)\n",
    "df.head()"
   ]
  },
  {
   "cell_type": "markdown",
   "id": "aef0c343",
   "metadata": {},
   "source": [
    "## Loading target feature from sklearn boston dataset"
   ]
  },
  {
   "cell_type": "code",
   "execution_count": 4,
   "id": "3234fe23",
   "metadata": {},
   "outputs": [
    {
     "data": {
      "text/html": [
       "<div>\n",
       "<style scoped>\n",
       "    .dataframe tbody tr th:only-of-type {\n",
       "        vertical-align: middle;\n",
       "    }\n",
       "\n",
       "    .dataframe tbody tr th {\n",
       "        vertical-align: top;\n",
       "    }\n",
       "\n",
       "    .dataframe thead th {\n",
       "        text-align: right;\n",
       "    }\n",
       "</style>\n",
       "<table border=\"1\" class=\"dataframe\">\n",
       "  <thead>\n",
       "    <tr style=\"text-align: right;\">\n",
       "      <th></th>\n",
       "      <th>price</th>\n",
       "    </tr>\n",
       "  </thead>\n",
       "  <tbody>\n",
       "    <tr>\n",
       "      <th>0</th>\n",
       "      <td>24.0</td>\n",
       "    </tr>\n",
       "    <tr>\n",
       "      <th>1</th>\n",
       "      <td>21.6</td>\n",
       "    </tr>\n",
       "    <tr>\n",
       "      <th>2</th>\n",
       "      <td>34.7</td>\n",
       "    </tr>\n",
       "    <tr>\n",
       "      <th>3</th>\n",
       "      <td>33.4</td>\n",
       "    </tr>\n",
       "    <tr>\n",
       "      <th>4</th>\n",
       "      <td>36.2</td>\n",
       "    </tr>\n",
       "  </tbody>\n",
       "</table>\n",
       "</div>"
      ],
      "text/plain": [
       "   price\n",
       "0   24.0\n",
       "1   21.6\n",
       "2   34.7\n",
       "3   33.4\n",
       "4   36.2"
      ]
     },
     "execution_count": 4,
     "metadata": {},
     "output_type": "execute_result"
    }
   ],
   "source": [
    "y = pd.DataFrame(boston.target, columns=['price'])\n",
    "y.head()"
   ]
  },
  {
   "cell_type": "code",
   "execution_count": 6,
   "id": "3d174976",
   "metadata": {},
   "outputs": [],
   "source": [
    "#Train test split\n",
    "xtrain, xtest, ytrain, ytest = train_test_split(df,y,test_size=0.3,random_state=40)"
   ]
  },
  {
   "cell_type": "markdown",
   "id": "95710bce",
   "metadata": {},
   "source": [
    "# Linear regression"
   ]
  },
  {
   "cell_type": "code",
   "execution_count": null,
   "id": "4bd2cd30",
   "metadata": {},
   "outputs": [],
   "source": [
    "lr = LinearRegression()"
   ]
  },
  {
   "cell_type": "code",
   "execution_count": null,
   "id": "4bb8de43",
   "metadata": {},
   "outputs": [],
   "source": [
    "lr.fit(xtrain,ytrain)"
   ]
  },
  {
   "cell_type": "code",
   "execution_count": null,
   "id": "7d46eb53",
   "metadata": {},
   "outputs": [],
   "source": [
    "pred = lr.predict(xtest)"
   ]
  },
  {
   "cell_type": "code",
   "execution_count": null,
   "id": "87798f4a",
   "metadata": {},
   "outputs": [],
   "source": [
    "mean_squared_error(ytest,pred)"
   ]
  },
  {
   "cell_type": "markdown",
   "id": "b8d2fcc8",
   "metadata": {},
   "source": [
    "# Lasso Regression"
   ]
  },
  {
   "cell_type": "code",
   "execution_count": null,
   "id": "67818f7e",
   "metadata": {},
   "outputs": [],
   "source": [
    "ls = Lasso(alpha=0.1) #without hyperparameter tuning alpha=0.1 it was 23 now 22"
   ]
  },
  {
   "cell_type": "code",
   "execution_count": null,
   "id": "b66062e2",
   "metadata": {},
   "outputs": [],
   "source": [
    "ls.fit(xtrain,ytrain)"
   ]
  },
  {
   "cell_type": "code",
   "execution_count": null,
   "id": "5dac3603",
   "metadata": {},
   "outputs": [],
   "source": [
    "pred_la = ls.predict(xtest)"
   ]
  },
  {
   "cell_type": "code",
   "execution_count": null,
   "id": "5f09d99f",
   "metadata": {},
   "outputs": [],
   "source": [
    "mean_squared_error(ytest, pred_la)"
   ]
  },
  {
   "cell_type": "markdown",
   "id": "5a1b2bd1",
   "metadata": {},
   "source": [
    "# Ridge Regression"
   ]
  },
  {
   "cell_type": "code",
   "execution_count": null,
   "id": "fecbb659",
   "metadata": {},
   "outputs": [],
   "source": [
    "rr = Ridge(alpha=40)  #without hyperparameter tuning alpha=40 it was 22.35 now 22.3"
   ]
  },
  {
   "cell_type": "code",
   "execution_count": null,
   "id": "4c78aa08",
   "metadata": {},
   "outputs": [],
   "source": [
    "rr.fit(xtrain,ytrain)"
   ]
  },
  {
   "cell_type": "code",
   "execution_count": null,
   "id": "afdd8eea",
   "metadata": {},
   "outputs": [],
   "source": [
    "pred_rr = rr.predict(xtest)"
   ]
  },
  {
   "cell_type": "code",
   "execution_count": null,
   "id": "6c25d6c7",
   "metadata": {},
   "outputs": [],
   "source": [
    "mean_squared_error(ytest, pred_rr)"
   ]
  },
  {
   "cell_type": "markdown",
   "id": "aa450b3b",
   "metadata": {},
   "source": [
    "# Manual hyperparameter tuning"
   ]
  },
  {
   "cell_type": "code",
   "execution_count": null,
   "id": "92e1bb96",
   "metadata": {},
   "outputs": [],
   "source": [
    "#For ridge\n",
    "list = [0.001,0.01,0.1,1,10]\n",
    "for i in list:\n",
    "    rr = Ridge(alpha= i )\n",
    "    rr.fit(xtrain,ytrain)\n",
    "    pred_rr = rr.predict(xtest)\n",
    "    print(f'the parameter {i} gives mse as:',mean_squared_error(ytest,pred_rr))"
   ]
  },
  {
   "cell_type": "code",
   "execution_count": null,
   "id": "ef38159a",
   "metadata": {},
   "outputs": [],
   "source": [
    "#For lasso\n",
    "list = [0.001,0.01,0.1,1,10]\n",
    "for i in list:\n",
    "    ls = Lasso(alpha= i )\n",
    "    ls.fit(xtrain,ytrain)\n",
    "    pred_la = ls.predict(xtest)\n",
    "    print(f'the parameter {i} gives mse as:',mean_squared_error(ytest,pred_la))"
   ]
  },
  {
   "cell_type": "markdown",
   "id": "c3337295",
   "metadata": {},
   "source": [
    "# Hyperparameter tuning using grid search cv"
   ]
  },
  {
   "cell_type": "code",
   "execution_count": null,
   "id": "553c8750",
   "metadata": {},
   "outputs": [],
   "source": [
    "param_rd = {'alpha':[1e-15, 1e-13, 1e-11, 1e-9, 1e-7, 1e-5, 1e-3, 1e-1, 0, 1,2,3,4,5,6,7,8,9,10,20,30,40,50,60,70,80,90,100,200,300,400,500]} #1*10 raise to -15"
   ]
  },
  {
   "cell_type": "code",
   "execution_count": null,
   "id": "aeccf759",
   "metadata": {},
   "outputs": [],
   "source": [
    "param_ls = {'alpha':[1e-15, 1e-13, 1e-11, 1e-9, 1e-7, 1e-5, 1e-3, 1e-1, 0, 1,2,3,4,5,6,7,8,9,10,20,30,40,50,60,70,80,90,100,200,300,400,500]} #1*10 raise to -15"
   ]
  },
  {
   "cell_type": "code",
   "execution_count": null,
   "id": "e271d594",
   "metadata": {},
   "outputs": [],
   "source": [
    "model_rd = GridSearchCV(Ridge(), param_rd, cv=10)"
   ]
  },
  {
   "cell_type": "code",
   "execution_count": null,
   "id": "765696b0",
   "metadata": {},
   "outputs": [],
   "source": [
    "model_rd.fit(df,y)    #do not fit on xtrain and ytrain instead fit on entire data bcz we are using cv=10"
   ]
  },
  {
   "cell_type": "code",
   "execution_count": null,
   "id": "fe6d0347",
   "metadata": {},
   "outputs": [],
   "source": [
    "model_rd.best_params_"
   ]
  },
  {
   "cell_type": "code",
   "execution_count": null,
   "id": "119fc7f7",
   "metadata": {},
   "outputs": [],
   "source": [
    "model_rd.best_score_"
   ]
  },
  {
   "cell_type": "code",
   "execution_count": null,
   "id": "4573cdcd",
   "metadata": {},
   "outputs": [],
   "source": [
    "model_ls = GridSearchCV(Lasso(), param_ls, cv=10)"
   ]
  },
  {
   "cell_type": "code",
   "execution_count": null,
   "id": "57750e66",
   "metadata": {},
   "outputs": [],
   "source": [
    "model_ls.fit(df,y)"
   ]
  },
  {
   "cell_type": "code",
   "execution_count": null,
   "id": "8ee42a02",
   "metadata": {},
   "outputs": [],
   "source": [
    "model_ls.best_params_"
   ]
  },
  {
   "cell_type": "code",
   "execution_count": null,
   "id": "28481e70",
   "metadata": {},
   "outputs": [],
   "source": [
    "model_ls.best_score_"
   ]
  },
  {
   "cell_type": "code",
   "execution_count": null,
   "id": "58b64ee2",
   "metadata": {},
   "outputs": [],
   "source": []
  },
  {
   "cell_type": "code",
   "execution_count": null,
   "id": "86d58962",
   "metadata": {},
   "outputs": [],
   "source": []
  },
  {
   "cell_type": "code",
   "execution_count": null,
   "id": "d9ddd097",
   "metadata": {},
   "outputs": [],
   "source": []
  },
  {
   "cell_type": "code",
   "execution_count": null,
   "id": "db1f12bf",
   "metadata": {},
   "outputs": [],
   "source": []
  },
  {
   "cell_type": "code",
   "execution_count": null,
   "id": "d64e3cb3",
   "metadata": {},
   "outputs": [],
   "source": []
  },
  {
   "cell_type": "code",
   "execution_count": null,
   "id": "3d201bd1",
   "metadata": {},
   "outputs": [],
   "source": []
  },
  {
   "cell_type": "code",
   "execution_count": null,
   "id": "c99d3971",
   "metadata": {},
   "outputs": [],
   "source": []
  },
  {
   "cell_type": "code",
   "execution_count": null,
   "id": "5a62e07f",
   "metadata": {},
   "outputs": [],
   "source": []
  },
  {
   "cell_type": "code",
   "execution_count": null,
   "id": "29f3f8bc",
   "metadata": {},
   "outputs": [],
   "source": []
  },
  {
   "cell_type": "code",
   "execution_count": null,
   "id": "715991e7",
   "metadata": {},
   "outputs": [],
   "source": []
  },
  {
   "cell_type": "code",
   "execution_count": null,
   "id": "68215b0e",
   "metadata": {},
   "outputs": [],
   "source": []
  },
  {
   "cell_type": "code",
   "execution_count": null,
   "id": "7551b2d7",
   "metadata": {},
   "outputs": [],
   "source": []
  }
 ],
 "metadata": {
  "kernelspec": {
   "display_name": "Python 3",
   "language": "python",
   "name": "python3"
  },
  "language_info": {
   "codemirror_mode": {
    "name": "ipython",
    "version": 3
   },
   "file_extension": ".py",
   "mimetype": "text/x-python",
   "name": "python",
   "nbconvert_exporter": "python",
   "pygments_lexer": "ipython3",
   "version": "3.8.8"
  }
 },
 "nbformat": 4,
 "nbformat_minor": 5
}
