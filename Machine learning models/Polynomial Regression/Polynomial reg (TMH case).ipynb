{
 "cells": [
  {
   "cell_type": "code",
   "execution_count": 1,
   "id": "df706ee8",
   "metadata": {},
   "outputs": [],
   "source": [
    "#Data handling libraries\n",
    "import pandas as pd\n",
    "import numpy as np\n",
    "\n",
    "from sklearn.linear_model import LinearRegression\n",
    "from sklearn.model_selection import train_test_split\n",
    "from sklearn.metrics import r2_score"
   ]
  },
  {
   "cell_type": "code",
   "execution_count": 2,
   "id": "50880652",
   "metadata": {},
   "outputs": [
    {
     "data": {
      "text/html": [
       "<div>\n",
       "<style scoped>\n",
       "    .dataframe tbody tr th:only-of-type {\n",
       "        vertical-align: middle;\n",
       "    }\n",
       "\n",
       "    .dataframe tbody tr th {\n",
       "        vertical-align: top;\n",
       "    }\n",
       "\n",
       "    .dataframe thead th {\n",
       "        text-align: right;\n",
       "    }\n",
       "</style>\n",
       "<table border=\"1\" class=\"dataframe\">\n",
       "  <thead>\n",
       "    <tr style=\"text-align: right;\">\n",
       "      <th></th>\n",
       "      <th>Report</th>\n",
       "      <th>Herceptin</th>\n",
       "      <th>Doxorubicin</th>\n",
       "    </tr>\n",
       "  </thead>\n",
       "  <tbody>\n",
       "    <tr>\n",
       "      <th>0</th>\n",
       "      <td>18.73178</td>\n",
       "      <td>38.887286</td>\n",
       "      <td>19.912786</td>\n",
       "    </tr>\n",
       "    <tr>\n",
       "      <th>1</th>\n",
       "      <td>18.74178</td>\n",
       "      <td>38.943168</td>\n",
       "      <td>19.928077</td>\n",
       "    </tr>\n",
       "    <tr>\n",
       "      <th>2</th>\n",
       "      <td>18.76178</td>\n",
       "      <td>39.055101</td>\n",
       "      <td>19.958675</td>\n",
       "    </tr>\n",
       "    <tr>\n",
       "      <th>3</th>\n",
       "      <td>18.77178</td>\n",
       "      <td>39.111152</td>\n",
       "      <td>19.973981</td>\n",
       "    </tr>\n",
       "    <tr>\n",
       "      <th>4</th>\n",
       "      <td>18.81780</td>\n",
       "      <td>39.369823</td>\n",
       "      <td>20.044488</td>\n",
       "    </tr>\n",
       "  </tbody>\n",
       "</table>\n",
       "</div>"
      ],
      "text/plain": [
       "     Report  Herceptin  Doxorubicin\n",
       "0  18.73178  38.887286    19.912786\n",
       "1  18.74178  38.943168    19.928077\n",
       "2  18.76178  39.055101    19.958675\n",
       "3  18.77178  39.111152    19.973981\n",
       "4  18.81780  39.369823    20.044488"
      ]
     },
     "execution_count": 2,
     "metadata": {},
     "output_type": "execute_result"
    }
   ],
   "source": [
    "df = pd.read_excel('E:/Businesstoys/Python/TMH data.xlsx')\n",
    "df.head()"
   ]
  },
  {
   "cell_type": "code",
   "execution_count": 3,
   "id": "d4e1a245",
   "metadata": {},
   "outputs": [
    {
     "data": {
      "text/html": [
       "<div>\n",
       "<style scoped>\n",
       "    .dataframe tbody tr th:only-of-type {\n",
       "        vertical-align: middle;\n",
       "    }\n",
       "\n",
       "    .dataframe tbody tr th {\n",
       "        vertical-align: top;\n",
       "    }\n",
       "\n",
       "    .dataframe thead th {\n",
       "        text-align: right;\n",
       "    }\n",
       "</style>\n",
       "<table border=\"1\" class=\"dataframe\">\n",
       "  <thead>\n",
       "    <tr style=\"text-align: right;\">\n",
       "      <th></th>\n",
       "      <th>Doxorubicin</th>\n",
       "    </tr>\n",
       "  </thead>\n",
       "  <tbody>\n",
       "    <tr>\n",
       "      <th>0</th>\n",
       "      <td>19.912786</td>\n",
       "    </tr>\n",
       "    <tr>\n",
       "      <th>1</th>\n",
       "      <td>19.928077</td>\n",
       "    </tr>\n",
       "    <tr>\n",
       "      <th>2</th>\n",
       "      <td>19.958675</td>\n",
       "    </tr>\n",
       "    <tr>\n",
       "      <th>3</th>\n",
       "      <td>19.973981</td>\n",
       "    </tr>\n",
       "    <tr>\n",
       "      <th>4</th>\n",
       "      <td>20.044488</td>\n",
       "    </tr>\n",
       "  </tbody>\n",
       "</table>\n",
       "</div>"
      ],
      "text/plain": [
       "   Doxorubicin\n",
       "0    19.912786\n",
       "1    19.928077\n",
       "2    19.958675\n",
       "3    19.973981\n",
       "4    20.044488"
      ]
     },
     "execution_count": 3,
     "metadata": {},
     "output_type": "execute_result"
    }
   ],
   "source": [
    "y1 = df[['Doxorubicin']]\n",
    "y1.head()"
   ]
  },
  {
   "cell_type": "code",
   "execution_count": 4,
   "id": "48472e19",
   "metadata": {},
   "outputs": [
    {
     "data": {
      "text/html": [
       "<div>\n",
       "<style scoped>\n",
       "    .dataframe tbody tr th:only-of-type {\n",
       "        vertical-align: middle;\n",
       "    }\n",
       "\n",
       "    .dataframe tbody tr th {\n",
       "        vertical-align: top;\n",
       "    }\n",
       "\n",
       "    .dataframe thead th {\n",
       "        text-align: right;\n",
       "    }\n",
       "</style>\n",
       "<table border=\"1\" class=\"dataframe\">\n",
       "  <thead>\n",
       "    <tr style=\"text-align: right;\">\n",
       "      <th></th>\n",
       "      <th>Herceptin</th>\n",
       "    </tr>\n",
       "  </thead>\n",
       "  <tbody>\n",
       "    <tr>\n",
       "      <th>0</th>\n",
       "      <td>38.887286</td>\n",
       "    </tr>\n",
       "    <tr>\n",
       "      <th>1</th>\n",
       "      <td>38.943168</td>\n",
       "    </tr>\n",
       "    <tr>\n",
       "      <th>2</th>\n",
       "      <td>39.055101</td>\n",
       "    </tr>\n",
       "    <tr>\n",
       "      <th>3</th>\n",
       "      <td>39.111152</td>\n",
       "    </tr>\n",
       "    <tr>\n",
       "      <th>4</th>\n",
       "      <td>39.369823</td>\n",
       "    </tr>\n",
       "  </tbody>\n",
       "</table>\n",
       "</div>"
      ],
      "text/plain": [
       "   Herceptin\n",
       "0  38.887286\n",
       "1  38.943168\n",
       "2  39.055101\n",
       "3  39.111152\n",
       "4  39.369823"
      ]
     },
     "execution_count": 4,
     "metadata": {},
     "output_type": "execute_result"
    }
   ],
   "source": [
    "y2 = df[['Herceptin']]\n",
    "y2.head()"
   ]
  },
  {
   "cell_type": "code",
   "execution_count": 5,
   "id": "b6793f70",
   "metadata": {},
   "outputs": [
    {
     "data": {
      "text/html": [
       "<div>\n",
       "<style scoped>\n",
       "    .dataframe tbody tr th:only-of-type {\n",
       "        vertical-align: middle;\n",
       "    }\n",
       "\n",
       "    .dataframe tbody tr th {\n",
       "        vertical-align: top;\n",
       "    }\n",
       "\n",
       "    .dataframe thead th {\n",
       "        text-align: right;\n",
       "    }\n",
       "</style>\n",
       "<table border=\"1\" class=\"dataframe\">\n",
       "  <thead>\n",
       "    <tr style=\"text-align: right;\">\n",
       "      <th></th>\n",
       "      <th>Report</th>\n",
       "    </tr>\n",
       "  </thead>\n",
       "  <tbody>\n",
       "    <tr>\n",
       "      <th>0</th>\n",
       "      <td>18.73178</td>\n",
       "    </tr>\n",
       "    <tr>\n",
       "      <th>1</th>\n",
       "      <td>18.74178</td>\n",
       "    </tr>\n",
       "    <tr>\n",
       "      <th>2</th>\n",
       "      <td>18.76178</td>\n",
       "    </tr>\n",
       "    <tr>\n",
       "      <th>3</th>\n",
       "      <td>18.77178</td>\n",
       "    </tr>\n",
       "    <tr>\n",
       "      <th>4</th>\n",
       "      <td>18.81780</td>\n",
       "    </tr>\n",
       "  </tbody>\n",
       "</table>\n",
       "</div>"
      ],
      "text/plain": [
       "     Report\n",
       "0  18.73178\n",
       "1  18.74178\n",
       "2  18.76178\n",
       "3  18.77178\n",
       "4  18.81780"
      ]
     },
     "execution_count": 5,
     "metadata": {},
     "output_type": "execute_result"
    }
   ],
   "source": [
    "x = df[['Report']]\n",
    "x.head()"
   ]
  },
  {
   "cell_type": "markdown",
   "id": "e8399241",
   "metadata": {},
   "source": [
    "## For Doxorubicin"
   ]
  },
  {
   "cell_type": "code",
   "execution_count": 6,
   "id": "c64ebac4",
   "metadata": {},
   "outputs": [],
   "source": [
    "#train test split\n",
    "xtrain, xtest, ytrain,ytest = train_test_split(x, y1, test_size=0.3)"
   ]
  },
  {
   "cell_type": "code",
   "execution_count": 7,
   "id": "bb8fbee1",
   "metadata": {},
   "outputs": [],
   "source": [
    "lr_doxo = LinearRegression()"
   ]
  },
  {
   "cell_type": "code",
   "execution_count": 8,
   "id": "2a2589c1",
   "metadata": {},
   "outputs": [
    {
     "data": {
      "text/plain": [
       "LinearRegression()"
      ]
     },
     "execution_count": 8,
     "metadata": {},
     "output_type": "execute_result"
    }
   ],
   "source": [
    "lr_doxo.fit(xtrain,ytrain)"
   ]
  },
  {
   "cell_type": "code",
   "execution_count": 9,
   "id": "02bd631c",
   "metadata": {},
   "outputs": [],
   "source": [
    "doxo_pred = lr_doxo.predict(xtest)"
   ]
  },
  {
   "cell_type": "code",
   "execution_count": 10,
   "id": "fc7281bf",
   "metadata": {},
   "outputs": [],
   "source": [
    "doxo_pred1 = lr_doxo.predict(xtrain)"
   ]
  },
  {
   "cell_type": "code",
   "execution_count": 11,
   "id": "9c27e5c0",
   "metadata": {},
   "outputs": [
    {
     "data": {
      "text/plain": [
       "0.9623766755224582"
      ]
     },
     "execution_count": 11,
     "metadata": {},
     "output_type": "execute_result"
    }
   ],
   "source": [
    "r2_score(ytest, doxo_pred)"
   ]
  },
  {
   "cell_type": "code",
   "execution_count": 12,
   "id": "949dba0c",
   "metadata": {},
   "outputs": [
    {
     "data": {
      "text/plain": [
       "0.9635260538854278"
      ]
     },
     "execution_count": 12,
     "metadata": {},
     "output_type": "execute_result"
    }
   ],
   "source": [
    "r2_score(ytrain, doxo_pred1)"
   ]
  },
  {
   "cell_type": "markdown",
   "id": "5dfdd593",
   "metadata": {},
   "source": [
    "## For herceptin"
   ]
  },
  {
   "cell_type": "code",
   "execution_count": 13,
   "id": "a24095a0",
   "metadata": {},
   "outputs": [],
   "source": [
    "#train test split\n",
    "xtrain, xtest, ytrain,ytest = train_test_split(x, y2, test_size=0.3)"
   ]
  },
  {
   "cell_type": "code",
   "execution_count": 14,
   "id": "af4299a3",
   "metadata": {},
   "outputs": [],
   "source": [
    "lr_hept = LinearRegression()"
   ]
  },
  {
   "cell_type": "code",
   "execution_count": 15,
   "id": "c9793bdd",
   "metadata": {},
   "outputs": [
    {
     "data": {
      "text/plain": [
       "LinearRegression()"
      ]
     },
     "execution_count": 15,
     "metadata": {},
     "output_type": "execute_result"
    }
   ],
   "source": [
    "lr_hept.fit(xtrain,ytrain)"
   ]
  },
  {
   "cell_type": "code",
   "execution_count": 16,
   "id": "e540f669",
   "metadata": {},
   "outputs": [],
   "source": [
    "hept_pred = lr_hept.predict(xtest)"
   ]
  },
  {
   "cell_type": "code",
   "execution_count": 18,
   "id": "1166fb03",
   "metadata": {},
   "outputs": [],
   "source": [
    "hept_pred1 = lr_hept.predict(xtrain)"
   ]
  },
  {
   "cell_type": "code",
   "execution_count": 17,
   "id": "e1c8b3ad",
   "metadata": {},
   "outputs": [
    {
     "data": {
      "text/plain": [
       "0.8910537347340829"
      ]
     },
     "execution_count": 17,
     "metadata": {},
     "output_type": "execute_result"
    }
   ],
   "source": [
    "#Testing accuracy\n",
    "r2_score(ytest, hept_pred)"
   ]
  },
  {
   "cell_type": "code",
   "execution_count": 19,
   "id": "2a7424d9",
   "metadata": {},
   "outputs": [
    {
     "data": {
      "text/plain": [
       "0.8573732615078737"
      ]
     },
     "execution_count": 19,
     "metadata": {},
     "output_type": "execute_result"
    }
   ],
   "source": [
    "#training accuracy\n",
    "r2_score(ytrain, hept_pred1)"
   ]
  },
  {
   "cell_type": "code",
   "execution_count": 21,
   "id": "be1ed85c",
   "metadata": {},
   "outputs": [
    {
     "data": {
      "text/plain": [
       "Report         0.127887\n",
       "Herceptin      1.126327\n",
       "Doxorubicin    0.654409\n",
       "dtype: float64"
      ]
     },
     "execution_count": 21,
     "metadata": {},
     "output_type": "execute_result"
    }
   ],
   "source": [
    "df.skew()"
   ]
  },
  {
   "cell_type": "code",
   "execution_count": 22,
   "id": "69ab50a2",
   "metadata": {},
   "outputs": [
    {
     "data": {
      "text/plain": [
       "Report        -1.108370\n",
       "Herceptin      0.027146\n",
       "Doxorubicin   -0.760904\n",
       "dtype: float64"
      ]
     },
     "execution_count": 22,
     "metadata": {},
     "output_type": "execute_result"
    }
   ],
   "source": [
    "df.kurt()"
   ]
  },
  {
   "cell_type": "markdown",
   "id": "f41bb69a",
   "metadata": {},
   "source": [
    "# Polynomial Regression"
   ]
  },
  {
   "cell_type": "markdown",
   "id": "349c69ae",
   "metadata": {},
   "source": [
    "We do polynomial reg in non-linear dataset."
   ]
  },
  {
   "cell_type": "markdown",
   "id": "e2130272",
   "metadata": {},
   "source": [
    "Note:  \n",
    "Since by checking skew value herceptin is highly +ve skewed and we also cant scaling to target var.\n",
    "To improve accuracy for herceptin we doing polynomial features.\n",
    "It will convert herceptin into polynomial features and convert into polynomial reg form ax3 + bx2 +cx + d.\n",
    "\n",
    "We can't perform feature data manipulation on target feature."
   ]
  },
  {
   "cell_type": "markdown",
   "id": "1054404c",
   "metadata": {},
   "source": [
    "Polynomial Regression is generally used when the points in the data are not captured by the Linear Regression Model and the Linear Regression fails in describing the best result clearly."
   ]
  },
  {
   "cell_type": "code",
   "execution_count": 23,
   "id": "4c215e13",
   "metadata": {},
   "outputs": [],
   "source": [
    "from sklearn.preprocessing import PolynomialFeatures"
   ]
  },
  {
   "cell_type": "code",
   "execution_count": 24,
   "id": "b32721bf",
   "metadata": {},
   "outputs": [
    {
     "data": {
      "text/html": [
       "<div>\n",
       "<style scoped>\n",
       "    .dataframe tbody tr th:only-of-type {\n",
       "        vertical-align: middle;\n",
       "    }\n",
       "\n",
       "    .dataframe tbody tr th {\n",
       "        vertical-align: top;\n",
       "    }\n",
       "\n",
       "    .dataframe thead th {\n",
       "        text-align: right;\n",
       "    }\n",
       "</style>\n",
       "<table border=\"1\" class=\"dataframe\">\n",
       "  <thead>\n",
       "    <tr style=\"text-align: right;\">\n",
       "      <th></th>\n",
       "      <th>Report</th>\n",
       "    </tr>\n",
       "  </thead>\n",
       "  <tbody>\n",
       "    <tr>\n",
       "      <th>0</th>\n",
       "      <td>18.73178</td>\n",
       "    </tr>\n",
       "    <tr>\n",
       "      <th>1</th>\n",
       "      <td>18.74178</td>\n",
       "    </tr>\n",
       "    <tr>\n",
       "      <th>2</th>\n",
       "      <td>18.76178</td>\n",
       "    </tr>\n",
       "    <tr>\n",
       "      <th>3</th>\n",
       "      <td>18.77178</td>\n",
       "    </tr>\n",
       "    <tr>\n",
       "      <th>4</th>\n",
       "      <td>18.81780</td>\n",
       "    </tr>\n",
       "  </tbody>\n",
       "</table>\n",
       "</div>"
      ],
      "text/plain": [
       "     Report\n",
       "0  18.73178\n",
       "1  18.74178\n",
       "2  18.76178\n",
       "3  18.77178\n",
       "4  18.81780"
      ]
     },
     "execution_count": 24,
     "metadata": {},
     "output_type": "execute_result"
    }
   ],
   "source": [
    "x.head()"
   ]
  },
  {
   "cell_type": "code",
   "execution_count": 25,
   "id": "574f7969",
   "metadata": {},
   "outputs": [
    {
     "data": {
      "text/html": [
       "<div>\n",
       "<style scoped>\n",
       "    .dataframe tbody tr th:only-of-type {\n",
       "        vertical-align: middle;\n",
       "    }\n",
       "\n",
       "    .dataframe tbody tr th {\n",
       "        vertical-align: top;\n",
       "    }\n",
       "\n",
       "    .dataframe thead th {\n",
       "        text-align: right;\n",
       "    }\n",
       "</style>\n",
       "<table border=\"1\" class=\"dataframe\">\n",
       "  <thead>\n",
       "    <tr style=\"text-align: right;\">\n",
       "      <th></th>\n",
       "      <th>Herceptin</th>\n",
       "    </tr>\n",
       "  </thead>\n",
       "  <tbody>\n",
       "    <tr>\n",
       "      <th>0</th>\n",
       "      <td>38.887286</td>\n",
       "    </tr>\n",
       "    <tr>\n",
       "      <th>1</th>\n",
       "      <td>38.943168</td>\n",
       "    </tr>\n",
       "    <tr>\n",
       "      <th>2</th>\n",
       "      <td>39.055101</td>\n",
       "    </tr>\n",
       "    <tr>\n",
       "      <th>3</th>\n",
       "      <td>39.111152</td>\n",
       "    </tr>\n",
       "    <tr>\n",
       "      <th>4</th>\n",
       "      <td>39.369823</td>\n",
       "    </tr>\n",
       "  </tbody>\n",
       "</table>\n",
       "</div>"
      ],
      "text/plain": [
       "   Herceptin\n",
       "0  38.887286\n",
       "1  38.943168\n",
       "2  39.055101\n",
       "3  39.111152\n",
       "4  39.369823"
      ]
     },
     "execution_count": 25,
     "metadata": {},
     "output_type": "execute_result"
    }
   ],
   "source": [
    "y2.head()"
   ]
  },
  {
   "cell_type": "code",
   "execution_count": 46,
   "id": "570878ee",
   "metadata": {},
   "outputs": [],
   "source": [
    "poly = PolynomialFeatures(degree= 2)\n",
    "x_poly = poly.fit_transform(x)   #It will create polynomial eqn from x feature and split into 2"
   ]
  },
  {
   "cell_type": "code",
   "execution_count": 47,
   "id": "9efeca93",
   "metadata": {
    "scrolled": true
   },
   "outputs": [
    {
     "data": {
      "text/plain": [
       "array([[1.00000000e+00, 1.87317800e+01, 3.50879582e+02],\n",
       "       [1.00000000e+00, 1.87417800e+01, 3.51254318e+02],\n",
       "       [1.00000000e+00, 1.87617800e+01, 3.52004389e+02],\n",
       "       [1.00000000e+00, 1.87717800e+01, 3.52379724e+02],\n",
       "       [1.00000000e+00, 1.88178000e+01, 3.54109597e+02],\n",
       "       [1.00000000e+00, 2.07317800e+01, 4.29806702e+02],\n",
       "       [1.00000000e+00, 2.20976700e+01, 4.88307019e+02],\n",
       "       [1.00000000e+00, 2.30976700e+01, 5.33502359e+02],\n",
       "       [1.00000000e+00, 2.60976700e+01, 6.81088379e+02],\n",
       "       [1.00000000e+00, 2.70976700e+01, 7.34283719e+02],\n",
       "       [1.00000000e+00, 2.71976700e+01, 7.39713253e+02],\n",
       "       [1.00000000e+00, 2.76976700e+01, 7.67160923e+02],\n",
       "       [1.00000000e+00, 2.80976700e+01, 7.89479059e+02],\n",
       "       [1.00000000e+00, 3.00976700e+01, 9.05869739e+02],\n",
       "       [1.00000000e+00, 3.14635600e+01, 9.89955608e+02],\n",
       "       [1.00000000e+00, 3.24635600e+01, 1.05388273e+03],\n",
       "       [1.00000000e+00, 3.34635600e+01, 1.11980985e+03],\n",
       "       [1.00000000e+00, 3.44635600e+01, 1.18773697e+03],\n",
       "       [1.00000000e+00, 3.54635600e+01, 1.25766409e+03],\n",
       "       [1.00000000e+00, 3.57635600e+01, 1.27903222e+03],\n",
       "       [1.00000000e+00, 3.61635600e+01, 1.30780307e+03],\n",
       "       [1.00000000e+00, 3.62535600e+01, 1.31432061e+03],\n",
       "       [1.00000000e+00, 3.69635600e+01, 1.36630477e+03],\n",
       "       [1.00000000e+00, 3.74635600e+01, 1.40351833e+03],\n",
       "       [1.00000000e+00, 4.68294500e+01, 2.19299739e+03],\n",
       "       [1.00000000e+00, 4.71294500e+01, 2.22118506e+03],\n",
       "       [1.00000000e+00, 4.85694500e+01, 2.35899147e+03],\n",
       "       [1.00000000e+00, 4.98294500e+01, 2.48297409e+03],\n",
       "       [1.00000000e+00, 5.09294500e+01, 2.59380888e+03],\n",
       "       [1.00000000e+00, 5.18294500e+01, 2.68629189e+03],\n",
       "       [1.00000000e+00, 5.38294500e+01, 2.89760969e+03],\n",
       "       [1.00000000e+00, 5.61953400e+01, 3.15791624e+03],\n",
       "       [1.00000000e+00, 5.72353400e+01, 3.27588414e+03],\n",
       "       [1.00000000e+00, 5.81963400e+01, 3.38681399e+03],\n",
       "       [1.00000000e+00, 5.89953400e+01, 3.48045014e+03],\n",
       "       [1.00000000e+00, 5.91953400e+01, 3.50408828e+03],\n",
       "       [1.00000000e+00, 6.01568340e+01, 3.61884468e+03],\n",
       "       [1.00000000e+00, 6.21583400e+01, 3.86365923e+03],\n",
       "       [1.00000000e+00, 6.55612300e+01, 4.29827488e+03],\n",
       "       [1.00000000e+00, 6.67812300e+01, 4.45973268e+03],\n",
       "       [1.00000000e+00, 6.78952300e+01, 4.60976226e+03],\n",
       "       [1.00000000e+00, 6.79612300e+01, 4.61872878e+03],\n",
       "       [1.00000000e+00, 6.89892300e+01, 4.75951386e+03],\n",
       "       [1.00000000e+00, 7.05612300e+01, 4.97888718e+03],\n",
       "       [1.00000000e+00, 7.29812300e+01, 5.32625993e+03],\n",
       "       [1.00000000e+00, 7.49271200e+01, 5.61407331e+03],\n",
       "       [1.00000000e+00, 7.52271200e+01, 5.65911958e+03],\n",
       "       [1.00000000e+00, 7.65671200e+01, 5.86252387e+03],\n",
       "       [1.00000000e+00, 7.71271200e+01, 5.94859264e+03],\n",
       "       [1.00000000e+00, 7.75271200e+01, 6.01045434e+03],\n",
       "       [1.00000000e+00, 7.77271200e+01, 6.04150518e+03],\n",
       "       [1.00000000e+00, 7.81071200e+01, 6.10072219e+03],\n",
       "       [1.00000000e+00, 7.82571200e+01, 6.12417683e+03],\n",
       "       [1.00000000e+00, 7.82597120e+01, 6.12458252e+03],\n",
       "       [1.00000000e+00, 7.89291200e+01, 6.22980598e+03],\n",
       "       [1.00000000e+00, 8.09271200e+01, 6.54919875e+03],\n",
       "       [1.00000000e+00, 8.16271200e+01, 6.66298672e+03],\n",
       "       [1.00000000e+00, 8.17271200e+01, 6.67932214e+03],\n",
       "       [1.00000000e+00, 8.18271200e+01, 6.69567757e+03],\n",
       "       [1.00000000e+00, 8.42930100e+01, 7.10531153e+03],\n",
       "       [1.00000000e+00, 8.58301000e+01, 7.36680607e+03],\n",
       "       [1.00000000e+00, 8.69301000e+01, 7.55684229e+03],\n",
       "       [1.00000000e+00, 8.77301000e+01, 7.69657045e+03],\n",
       "       [1.00000000e+00, 8.82830100e+01, 7.79388985e+03],\n",
       "       [1.00000000e+00, 9.01930100e+01, 8.13477905e+03],\n",
       "       [1.00000000e+00, 9.36589000e+01, 8.77198955e+03],\n",
       "       [1.00000000e+00, 9.46589000e+01, 8.96030735e+03],\n",
       "       [1.00000000e+00, 9.55589000e+01, 9.13150337e+03],\n",
       "       [1.00000000e+00, 9.69589000e+01, 9.40102829e+03],\n",
       "       [1.00000000e+00, 9.76989000e+01, 9.54507506e+03],\n",
       "       [1.00000000e+00, 1.03024790e+02, 1.06141074e+04],\n",
       "       [1.00000000e+00, 1.05124790e+02, 1.10512215e+04],\n",
       "       [1.00000000e+00, 1.05524790e+02, 1.11354813e+04],\n",
       "       [1.00000000e+00, 1.05724790e+02, 1.11777312e+04],\n",
       "       [1.00000000e+00, 1.05924790e+02, 1.12200611e+04],\n",
       "       [1.00000000e+00, 1.09364790e+02, 1.19606573e+04],\n",
       "       [1.00000000e+00, 1.10024790e+02, 1.21054544e+04],\n",
       "       [1.00000000e+00, 1.12390680e+02, 1.26316650e+04],\n",
       "       [1.00000000e+00, 1.18590680e+02, 1.40637494e+04],\n",
       "       [1.00000000e+00, 1.21756570e+02, 1.48246623e+04],\n",
       "       [1.00000000e+00, 1.21656570e+02, 1.48003210e+04],\n",
       "       [1.00000000e+00, 1.22556570e+02, 1.50201129e+04],\n",
       "       [1.00000000e+00, 1.23856570e+02, 1.53404499e+04],\n",
       "       [1.00000000e+00, 1.24695700e+02, 1.55490176e+04],\n",
       "       [1.00000000e+00, 1.25256570e+02, 1.56892083e+04],\n",
       "       [1.00000000e+00, 1.26565700e+02, 1.60188764e+04],\n",
       "       [1.00000000e+00, 1.27756570e+02, 1.63217412e+04],\n",
       "       [1.00000000e+00, 1.28866570e+02, 1.66065929e+04],\n",
       "       [1.00000000e+00, 1.30756570e+02, 1.70972806e+04],\n",
       "       [1.00000000e+00, 1.31122460e+02, 1.71930995e+04],\n",
       "       [1.00000000e+00, 1.33782460e+02, 1.78977466e+04],\n",
       "       [1.00000000e+00, 1.34522460e+02, 1.80962922e+04],\n",
       "       [1.00000000e+00, 1.36582460e+02, 1.86547684e+04],\n",
       "       [1.00000000e+00, 1.40488350e+02, 1.97369765e+04],\n",
       "       [1.00000000e+00, 1.40568350e+02, 1.97594610e+04],\n",
       "       [1.00000000e+00, 1.40638350e+02, 1.97791455e+04],\n",
       "       [1.00000000e+00, 1.41258350e+02, 1.99539214e+04],\n",
       "       [1.00000000e+00, 1.42368350e+02, 2.02687471e+04],\n",
       "       [1.00000000e+00, 1.44485350e+02, 2.08760164e+04]])"
      ]
     },
     "execution_count": 47,
     "metadata": {},
     "output_type": "execute_result"
    }
   ],
   "source": [
    "# \n",
    "x_poly   #c             #a               #b  (output format)"
   ]
  },
  {
   "cell_type": "code",
   "execution_count": 48,
   "id": "27c4dbfa",
   "metadata": {},
   "outputs": [],
   "source": [
    "xtrain, xtest, ytrain, ytest = train_test_split(x_poly,y2, test_size=0.3)"
   ]
  },
  {
   "cell_type": "code",
   "execution_count": 49,
   "id": "c3084349",
   "metadata": {},
   "outputs": [],
   "source": [
    "lr = LinearRegression()"
   ]
  },
  {
   "cell_type": "code",
   "execution_count": 50,
   "id": "1d871077",
   "metadata": {},
   "outputs": [
    {
     "data": {
      "text/plain": [
       "LinearRegression()"
      ]
     },
     "execution_count": 50,
     "metadata": {},
     "output_type": "execute_result"
    }
   ],
   "source": [
    "lr.fit(xtrain, ytrain)"
   ]
  },
  {
   "cell_type": "code",
   "execution_count": 51,
   "id": "cdb49945",
   "metadata": {},
   "outputs": [],
   "source": [
    "pred = lr.predict(xtest)"
   ]
  },
  {
   "cell_type": "code",
   "execution_count": 52,
   "id": "db489b0d",
   "metadata": {},
   "outputs": [
    {
     "data": {
      "text/plain": [
       "0.9974006597212253"
      ]
     },
     "execution_count": 52,
     "metadata": {},
     "output_type": "execute_result"
    }
   ],
   "source": [
    "r2_score(ytest, pred)"
   ]
  },
  {
   "cell_type": "code",
   "execution_count": 53,
   "id": "1fc2ba10",
   "metadata": {},
   "outputs": [],
   "source": [
    "#for training\n",
    "pred1 = lr.predict(xtrain)"
   ]
  },
  {
   "cell_type": "code",
   "execution_count": 54,
   "id": "68222486",
   "metadata": {},
   "outputs": [
    {
     "data": {
      "text/plain": [
       "0.9982384384860143"
      ]
     },
     "execution_count": 54,
     "metadata": {},
     "output_type": "execute_result"
    }
   ],
   "source": [
    "r2_score(ytrain, pred1)"
   ]
  },
  {
   "cell_type": "code",
   "execution_count": null,
   "id": "7e421b73",
   "metadata": {},
   "outputs": [],
   "source": []
  },
  {
   "cell_type": "code",
   "execution_count": null,
   "id": "52c7ddf1",
   "metadata": {},
   "outputs": [],
   "source": []
  },
  {
   "cell_type": "code",
   "execution_count": null,
   "id": "14c89612",
   "metadata": {},
   "outputs": [],
   "source": []
  },
  {
   "cell_type": "code",
   "execution_count": null,
   "id": "85f44e59",
   "metadata": {},
   "outputs": [],
   "source": []
  },
  {
   "cell_type": "code",
   "execution_count": null,
   "id": "2fd98b18",
   "metadata": {},
   "outputs": [],
   "source": []
  }
 ],
 "metadata": {
  "kernelspec": {
   "display_name": "Python 3",
   "language": "python",
   "name": "python3"
  },
  "language_info": {
   "codemirror_mode": {
    "name": "ipython",
    "version": 3
   },
   "file_extension": ".py",
   "mimetype": "text/x-python",
   "name": "python",
   "nbconvert_exporter": "python",
   "pygments_lexer": "ipython3",
   "version": "3.8.8"
  }
 },
 "nbformat": 4,
 "nbformat_minor": 5
}
