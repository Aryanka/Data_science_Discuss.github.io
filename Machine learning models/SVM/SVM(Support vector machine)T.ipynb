{
 "cells": [
  {
   "cell_type": "markdown",
   "id": "53a8597d",
   "metadata": {},
   "source": [
    "# SVM  \n",
    "The algorithm creates a line or a hyperplane which separates the data into classes.\n",
    "SVM is a boundary drawing algorithm by identify extreme datapoints. \n",
    "\n",
    "1. Support vectors are data points which are away from the centre and near to the hyperplane.\n",
    "\n",
    "\n",
    "2. After identifying SV algo draws tangent(line that touches point). It passes through the nearest points from each class; to the hyperplane. The angle between these nearest points and the hyperplane is 90°. These points are referred to as Support Vectors. \n",
    "\n",
    "\n",
    "3. A straight line dividing the regions/graphs are known as Hyperplanes. This line is dicided in such a way that the distance bw the line and both the tangents should be maximum in distance. This distance is known as margin. So a hyperplane is placed in such a way that max margin is achieved on support vectors."
   ]
  },
  {
   "cell_type": "markdown",
   "id": "527dc88c",
   "metadata": {},
   "source": [
    "If Datapoints are very much close to each other kernel is used. kernel will convert the 2d dataframe into a 3d dataframe and draws a hyperplane."
   ]
  },
  {
   "cell_type": "markdown",
   "id": "26cc42da",
   "metadata": {},
   "source": [
    "#### In case of Linear problem.\n",
    "In this case svm will not find distance, it will find variance. If spread of data point is close to the point then it is classified as that datapoint. This is bcz in continous we are predicting value.\n",
    "for eg: if one pt. is close to some pts, it will calculate avg of these pts and assign to that point.\n",
    "In classification it will assign the datapoints class to data which need to predict which are in majority "
   ]
  },
  {
   "cell_type": "markdown",
   "id": "e2a1ad02",
   "metadata": {},
   "source": [
    "NOte: SVR for continous and SVC for classification."
   ]
  },
  {
   "cell_type": "code",
   "execution_count": null,
   "id": "fba0f18f",
   "metadata": {},
   "outputs": [],
   "source": []
  }
 ],
 "metadata": {
  "kernelspec": {
   "display_name": "Python 3",
   "language": "python",
   "name": "python3"
  },
  "language_info": {
   "codemirror_mode": {
    "name": "ipython",
    "version": 3
   },
   "file_extension": ".py",
   "mimetype": "text/x-python",
   "name": "python",
   "nbconvert_exporter": "python",
   "pygments_lexer": "ipython3",
   "version": "3.8.8"
  }
 },
 "nbformat": 4,
 "nbformat_minor": 5
}
