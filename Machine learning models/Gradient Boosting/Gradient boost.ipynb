{
 "cells": [
  {
   "cell_type": "markdown",
   "id": "a83d7227",
   "metadata": {},
   "source": [
    "## OLS (Ordinary least sq )"
   ]
  },
  {
   "cell_type": "markdown",
   "id": "e7453bf3",
   "metadata": {},
   "source": [
    "## G Boost"
   ]
  },
  {
   "cell_type": "markdown",
   "id": "d954ae0d",
   "metadata": {},
   "source": [
    "We are enhancing/boosting the slope/gradient of the line to get the best fit line.\n",
    "\n",
    "Learning Rate: Steps the model takes to reach the best ft line."
   ]
  },
  {
   "cell_type": "code",
   "execution_count": null,
   "id": "32335930",
   "metadata": {},
   "outputs": [],
   "source": []
  }
 ],
 "metadata": {
  "kernelspec": {
   "display_name": "Python 3",
   "language": "python",
   "name": "python3"
  },
  "language_info": {
   "codemirror_mode": {
    "name": "ipython",
    "version": 3
   },
   "file_extension": ".py",
   "mimetype": "text/x-python",
   "name": "python",
   "nbconvert_exporter": "python",
   "pygments_lexer": "ipython3",
   "version": "3.8.8"
  }
 },
 "nbformat": 4,
 "nbformat_minor": 5
}
