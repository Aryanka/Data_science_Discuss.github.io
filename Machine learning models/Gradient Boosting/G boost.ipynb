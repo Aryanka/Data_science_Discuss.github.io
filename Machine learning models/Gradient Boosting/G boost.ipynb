{
 "cells": [
  {
   "cell_type": "code",
   "execution_count": null,
   "id": "5f50212f",
   "metadata": {},
   "outputs": [],
   "source": [
    "Did in adaboost"
   ]
  },
  {
   "cell_type": "code",
   "execution_count": null,
   "id": "382d9b8a",
   "metadata": {},
   "outputs": [],
   "source": [
    "# Create a fn which take parameter like x and y and it give output as model name and accuracy.\n",
    "# show rmse also"
   ]
  }
 ],
 "metadata": {
  "kernelspec": {
   "display_name": "Python 3",
   "language": "python",
   "name": "python3"
  },
  "language_info": {
   "codemirror_mode": {
    "name": "ipython",
    "version": 3
   },
   "file_extension": ".py",
   "mimetype": "text/x-python",
   "name": "python",
   "nbconvert_exporter": "python",
   "pygments_lexer": "ipython3",
   "version": "3.8.8"
  }
 },
 "nbformat": 4,
 "nbformat_minor": 5
}
