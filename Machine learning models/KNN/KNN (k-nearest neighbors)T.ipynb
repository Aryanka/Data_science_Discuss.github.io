{
 "cells": [
  {
   "cell_type": "markdown",
   "id": "4ce85297",
   "metadata": {},
   "source": [
    "# Cross-Validation\n",
    "\n",
    "An imbalanced dataset is defined by great differences in the distribution of the classes in the dataset. This means that a dataset is biased towards a class in the dataset. If the dataset is biased towards one class, an algorithm trained on the same data will be biased towards the same class.\n",
    "\n",
    "Sometimes during train-test split our model gets imbalanced data. To avoid this imbalanced data Cross-validation is used.\n",
    "\n",
    "1. What it do is it creates compartments and randomly selected testing department and assigning others as training department.\n",
    "2. Build the model on training set and test the model on testing set, then predict the accuracy and store it.\n",
    "3. This whole process keeps on implementing depending on how many departments are assigned.\n",
    "\n",
    "Some types of cross validation are:\n",
    "\n",
    "1. Leave one out cross-validation.\n",
    "2. k-fold cross-validation.\n",
    "3. Stratified k-fold cross-validation.\n",
    "4. Time Series cross-validation.\n"
   ]
  },
  {
   "cell_type": "markdown",
   "id": "03fbf41c",
   "metadata": {},
   "source": [
    "# KNN (K-nearest neighbours)\n",
    "\n",
    "Here, nearest neighbors are those data points that have minimum distance in feature space from our new data point i.e (distance from data point which needs to be predicted and feature) And K is the number of such data points we consider in our implementation of the algorithm. Therefore, Euclidean distance(distance metric) and K value are two important considerations while using the KNN algorithm.\n",
    "\n",
    "The closest point to which category they belong can be put on new data. so, if i take k=3, algo will predict class or continous value (based on regression or classification problem).\n",
    "1. Identify which needs to be predicted.\n",
    "2. Distance is calculated bw new point and all the other data point.\n",
    "3. Based on k value it took the data points closest point to which category they belong and assign new data point to the class which has appeared majority of time."
   ]
  },
  {
   "cell_type": "code",
   "execution_count": null,
   "id": "f936f111",
   "metadata": {},
   "outputs": [],
   "source": []
  }
 ],
 "metadata": {
  "kernelspec": {
   "display_name": "Python 3",
   "language": "python",
   "name": "python3"
  },
  "language_info": {
   "codemirror_mode": {
    "name": "ipython",
    "version": 3
   },
   "file_extension": ".py",
   "mimetype": "text/x-python",
   "name": "python",
   "nbconvert_exporter": "python",
   "pygments_lexer": "ipython3",
   "version": "3.8.8"
  }
 },
 "nbformat": 4,
 "nbformat_minor": 5
}
